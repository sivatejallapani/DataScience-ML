{
 "cells": [
  {
   "cell_type": "markdown",
   "metadata": {},
   "source": [
    "for windows\n",
    "1# install aws client  CLI1 or CLI2 https://aws.amazon.com/cli/\n",
    "2# configure aws_access_key_id and aws_secret_access_key (we get these from aws IAM user) \n",
    "3# step2 can be completed by runing 'aws configure' from command prompt or editing .aws folder credential file in your home    directory\n",
    "4# pip install s3fs not required for this task  , but required to read files from aws s3"
   ]
  },
  {
   "cell_type": "code",
   "execution_count": 5,
   "metadata": {},
   "outputs": [
    {
     "data": {
      "text/plain": [
       "s3.Bucket(name='tejaawsbucket1')"
      ]
     },
     "execution_count": 5,
     "metadata": {},
     "output_type": "execute_result"
    }
   ],
   "source": [
    "import boto3\n",
    "s3 = boto3.resource('s3')\n",
    "s3.create_bucket(Bucket='tejaawsbucket1')"
   ]
  },
  {
   "cell_type": "code",
   "execution_count": null,
   "metadata": {},
   "outputs": [],
   "source": []
  }
 ],
 "metadata": {
  "kernelspec": {
   "display_name": "Python 3",
   "language": "python",
   "name": "python3"
  },
  "language_info": {
   "codemirror_mode": {
    "name": "ipython",
    "version": 3
   },
   "file_extension": ".py",
   "mimetype": "text/x-python",
   "name": "python",
   "nbconvert_exporter": "python",
   "pygments_lexer": "ipython3",
   "version": "3.7.1"
  }
 },
 "nbformat": 4,
 "nbformat_minor": 2
}
